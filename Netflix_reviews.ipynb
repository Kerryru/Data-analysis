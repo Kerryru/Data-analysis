{
 "cells": [
  {
   "cell_type": "code",
   "execution_count": 1,
   "id": "0709720a",
   "metadata": {},
   "outputs": [],
   "source": [
    "import pandas as pd \n",
    "from collections import Counter\n",
    "import re\n",
    "import matplotlib.pyplot as plt\n",
    "from wordcloud import WordCloud\n",
    "import nltk\n",
    "from nltk.corpus import stopwords\n",
    "from sklearn.feature_extraction.text import TfidfVectorizer\n",
    "import pickle\n",
    "import numpy as np\n",
    "import tensorflow as tf\n",
    "from sklearn.model_selection import train_test_split\n",
    "from tensorflow.keras.models import Sequential\n",
    "from tensorflow.keras.layers import Dense, LSTM, Embedding, SpatialDropout1D\n",
    "\n",
    "\n",
    "from sklearn.metrics import classification_report\n",
    "from tensorflow.keras.models import Sequential\n",
    "from tensorflow.keras.optimizers import Adam\n",
    "from tensorflow.keras.preprocessing.sequence import pad_sequences\n",
    "from tensorflow.keras.regularizers import l2\n",
    "from sklearn.metrics import confusion_matrix, classification_report\n",
    "from sklearn.utils.class_weight import compute_class_weight\n"
   ]
  },
  {
   "cell_type": "code",
   "execution_count": 2,
   "id": "2b30d753",
   "metadata": {},
   "outputs": [
    {
     "name": "stderr",
     "output_type": "stream",
     "text": [
      "[nltk_data] Downloading package stopwords to\n",
      "[nltk_data]     C:\\Users\\Kerry\\AppData\\Roaming\\nltk_data...\n",
      "[nltk_data]   Package stopwords is already up-to-date!\n"
     ]
    },
    {
     "data": {
      "text/plain": [
       "True"
      ]
     },
     "execution_count": 2,
     "metadata": {},
     "output_type": "execute_result"
    }
   ],
   "source": [
    "# 下载停用词\n",
    "nltk.download('stopwords')"
   ]
  },
  {
   "cell_type": "code",
   "execution_count": 3,
   "id": "387a22c5",
   "metadata": {
    "scrolled": true
   },
   "outputs": [
    {
     "data": {
      "text/html": [
       "<div>\n",
       "<style scoped>\n",
       "    .dataframe tbody tr th:only-of-type {\n",
       "        vertical-align: middle;\n",
       "    }\n",
       "\n",
       "    .dataframe tbody tr th {\n",
       "        vertical-align: top;\n",
       "    }\n",
       "\n",
       "    .dataframe thead th {\n",
       "        text-align: right;\n",
       "    }\n",
       "</style>\n",
       "<table border=\"1\" class=\"dataframe\">\n",
       "  <thead>\n",
       "    <tr style=\"text-align: right;\">\n",
       "      <th></th>\n",
       "      <th>reviewId</th>\n",
       "      <th>userName</th>\n",
       "      <th>content</th>\n",
       "      <th>score</th>\n",
       "      <th>thumbsUpCount</th>\n",
       "      <th>reviewCreatedVersion</th>\n",
       "      <th>at</th>\n",
       "      <th>appVersion</th>\n",
       "    </tr>\n",
       "  </thead>\n",
       "  <tbody>\n",
       "    <tr>\n",
       "      <th>0</th>\n",
       "      <td>5c934dd8-6417-4653-aa21-2d093f468d72</td>\n",
       "      <td>Redwane Stayka</td>\n",
       "      <td>Doesn't allow me to watch with my friend accou...</td>\n",
       "      <td>1</td>\n",
       "      <td>1</td>\n",
       "      <td>8.114.0 build 19 50680</td>\n",
       "      <td>2024-06-04 21:51:39</td>\n",
       "      <td>8.114.0 build 19 50680</td>\n",
       "    </tr>\n",
       "    <tr>\n",
       "      <th>1</th>\n",
       "      <td>1328c8fe-0596-41c6-9ddf-20a5163a5c50</td>\n",
       "      <td>vivian muir</td>\n",
       "      <td>i love this app everyone i know uses this app ...</td>\n",
       "      <td>5</td>\n",
       "      <td>0</td>\n",
       "      <td>8.117.0 build 3 50695</td>\n",
       "      <td>2024-06-04 21:50:37</td>\n",
       "      <td>8.117.0 build 3 50695</td>\n",
       "    </tr>\n",
       "    <tr>\n",
       "      <th>2</th>\n",
       "      <td>4ea3b37c-0478-4eb8-9754-7a27f917100c</td>\n",
       "      <td>Madongaolou Edward</td>\n",
       "      <td>My phone works fine with other apps but why th...</td>\n",
       "      <td>1</td>\n",
       "      <td>1</td>\n",
       "      <td>8.52.2 build 14 50335</td>\n",
       "      <td>2024-06-04 21:48:50</td>\n",
       "      <td>8.52.2 build 14 50335</td>\n",
       "    </tr>\n",
       "    <tr>\n",
       "      <th>3</th>\n",
       "      <td>7ecc7540-7968-4ba2-be6c-bdf3b0311daf</td>\n",
       "      <td>Stuart Durston</td>\n",
       "      <td>Netflix I would have once got a 5 star review....</td>\n",
       "      <td>2</td>\n",
       "      <td>0</td>\n",
       "      <td>8.117.0 build 3 50695</td>\n",
       "      <td>2024-06-04 21:39:35</td>\n",
       "      <td>8.117.0 build 3 50695</td>\n",
       "    </tr>\n",
       "    <tr>\n",
       "      <th>4</th>\n",
       "      <td>dd57e681-5ae5-4b41-909d-8a868fde751a</td>\n",
       "      <td>Afolayan Damilola</td>\n",
       "      <td>Good and amazing</td>\n",
       "      <td>5</td>\n",
       "      <td>0</td>\n",
       "      <td>NaN</td>\n",
       "      <td>2024-06-04 21:37:16</td>\n",
       "      <td>NaN</td>\n",
       "    </tr>\n",
       "    <tr>\n",
       "      <th>...</th>\n",
       "      <td>...</td>\n",
       "      <td>...</td>\n",
       "      <td>...</td>\n",
       "      <td>...</td>\n",
       "      <td>...</td>\n",
       "      <td>...</td>\n",
       "      <td>...</td>\n",
       "      <td>...</td>\n",
       "    </tr>\n",
       "    <tr>\n",
       "      <th>112108</th>\n",
       "      <td>a760ead9-e7aa-4ed1-a651-5c37c3600dac</td>\n",
       "      <td>A Google user</td>\n",
       "      <td>i really like it! there are so many movies and...</td>\n",
       "      <td>5</td>\n",
       "      <td>0</td>\n",
       "      <td>NaN</td>\n",
       "      <td>2019-08-03 15:06:03</td>\n",
       "      <td>NaN</td>\n",
       "    </tr>\n",
       "    <tr>\n",
       "      <th>112109</th>\n",
       "      <td>4957f9e7-d7f4-4a52-9764-031cebcac83f</td>\n",
       "      <td>Captain Jeoy</td>\n",
       "      <td>I love Netflix. I always enjoy my time using it.</td>\n",
       "      <td>5</td>\n",
       "      <td>0</td>\n",
       "      <td>8.34.0 build 4 50250</td>\n",
       "      <td>2022-08-15 16:16:30</td>\n",
       "      <td>8.34.0 build 4 50250</td>\n",
       "    </tr>\n",
       "    <tr>\n",
       "      <th>112110</th>\n",
       "      <td>9acf7586-7abf-4b50-8c50-3ede3b2a42c4</td>\n",
       "      <td>Suryansh</td>\n",
       "      <td>Sound quality is very slow of movies</td>\n",
       "      <td>1</td>\n",
       "      <td>0</td>\n",
       "      <td>NaN</td>\n",
       "      <td>2020-08-17 07:26:58</td>\n",
       "      <td>NaN</td>\n",
       "    </tr>\n",
       "    <tr>\n",
       "      <th>112111</th>\n",
       "      <td>32870f7f-c461-4256-b602-75244ca60248</td>\n",
       "      <td>A Google user</td>\n",
       "      <td>Rate is very expensive.. bcos we see netflix s...</td>\n",
       "      <td>1</td>\n",
       "      <td>0</td>\n",
       "      <td>7.17.0 build 13 34346</td>\n",
       "      <td>2019-07-21 09:41:42</td>\n",
       "      <td>7.17.0 build 13 34346</td>\n",
       "    </tr>\n",
       "    <tr>\n",
       "      <th>112112</th>\n",
       "      <td>dc1352e9-10a8-41ca-ab23-05d045b08e90</td>\n",
       "      <td>suraj soni</td>\n",
       "      <td>this app is awesome for english movies ,series...</td>\n",
       "      <td>4</td>\n",
       "      <td>0</td>\n",
       "      <td>NaN</td>\n",
       "      <td>2020-05-24 11:04:08</td>\n",
       "      <td>NaN</td>\n",
       "    </tr>\n",
       "  </tbody>\n",
       "</table>\n",
       "<p>112113 rows × 8 columns</p>\n",
       "</div>"
      ],
      "text/plain": [
       "                                    reviewId            userName  \\\n",
       "0       5c934dd8-6417-4653-aa21-2d093f468d72      Redwane Stayka   \n",
       "1       1328c8fe-0596-41c6-9ddf-20a5163a5c50         vivian muir   \n",
       "2       4ea3b37c-0478-4eb8-9754-7a27f917100c  Madongaolou Edward   \n",
       "3       7ecc7540-7968-4ba2-be6c-bdf3b0311daf      Stuart Durston   \n",
       "4       dd57e681-5ae5-4b41-909d-8a868fde751a   Afolayan Damilola   \n",
       "...                                      ...                 ...   \n",
       "112108  a760ead9-e7aa-4ed1-a651-5c37c3600dac       A Google user   \n",
       "112109  4957f9e7-d7f4-4a52-9764-031cebcac83f        Captain Jeoy   \n",
       "112110  9acf7586-7abf-4b50-8c50-3ede3b2a42c4            Suryansh   \n",
       "112111  32870f7f-c461-4256-b602-75244ca60248       A Google user   \n",
       "112112  dc1352e9-10a8-41ca-ab23-05d045b08e90          suraj soni   \n",
       "\n",
       "                                                  content  score  \\\n",
       "0       Doesn't allow me to watch with my friend accou...      1   \n",
       "1       i love this app everyone i know uses this app ...      5   \n",
       "2       My phone works fine with other apps but why th...      1   \n",
       "3       Netflix I would have once got a 5 star review....      2   \n",
       "4                                        Good and amazing      5   \n",
       "...                                                   ...    ...   \n",
       "112108  i really like it! there are so many movies and...      5   \n",
       "112109   I love Netflix. I always enjoy my time using it.      5   \n",
       "112110               Sound quality is very slow of movies      1   \n",
       "112111  Rate is very expensive.. bcos we see netflix s...      1   \n",
       "112112  this app is awesome for english movies ,series...      4   \n",
       "\n",
       "        thumbsUpCount    reviewCreatedVersion                   at  \\\n",
       "0                   1  8.114.0 build 19 50680  2024-06-04 21:51:39   \n",
       "1                   0   8.117.0 build 3 50695  2024-06-04 21:50:37   \n",
       "2                   1   8.52.2 build 14 50335  2024-06-04 21:48:50   \n",
       "3                   0   8.117.0 build 3 50695  2024-06-04 21:39:35   \n",
       "4                   0                     NaN  2024-06-04 21:37:16   \n",
       "...               ...                     ...                  ...   \n",
       "112108              0                     NaN  2019-08-03 15:06:03   \n",
       "112109              0    8.34.0 build 4 50250  2022-08-15 16:16:30   \n",
       "112110              0                     NaN  2020-08-17 07:26:58   \n",
       "112111              0   7.17.0 build 13 34346  2019-07-21 09:41:42   \n",
       "112112              0                     NaN  2020-05-24 11:04:08   \n",
       "\n",
       "                    appVersion  \n",
       "0       8.114.0 build 19 50680  \n",
       "1        8.117.0 build 3 50695  \n",
       "2        8.52.2 build 14 50335  \n",
       "3        8.117.0 build 3 50695  \n",
       "4                          NaN  \n",
       "...                        ...  \n",
       "112108                     NaN  \n",
       "112109    8.34.0 build 4 50250  \n",
       "112110                     NaN  \n",
       "112111   7.17.0 build 13 34346  \n",
       "112112                     NaN  \n",
       "\n",
       "[112113 rows x 8 columns]"
      ]
     },
     "execution_count": 3,
     "metadata": {},
     "output_type": "execute_result"
    }
   ],
   "source": [
    "df = pd.read_csv(\"netflix_reviews.csv\")\n",
    "df"
   ]
  },
  {
   "cell_type": "code",
   "execution_count": 4,
   "id": "f0133767",
   "metadata": {},
   "outputs": [
    {
     "name": "stdout",
     "output_type": "stream",
     "text": [
      "                                             content  \\\n",
      "0  Doesn't allow me to watch with my friend accou...   \n",
      "1  i love this app everyone i know uses this app ...   \n",
      "2  My phone works fine with other apps but why th...   \n",
      "3  Netflix I would have once got a 5 star review....   \n",
      "4                                   Good and amazing   \n",
      "\n",
      "                                     cleaned_content  \\\n",
      "0  doesnt allow me to watch with my friend accoun...   \n",
      "1  i love this app everyone i know uses this app ...   \n",
      "2  my phone works fine with other apps but why th...   \n",
      "3  netflix i would have once got a 5 star review ...   \n",
      "4                                   good and amazing   \n",
      "\n",
      "                                              tokens  \n",
      "0  [doesnt, allow, watch, friend, account, netfli...  \n",
      "1  [love, app, everyone, know, uses, app, app, wa...  \n",
      "2  [phone, works, fine, apps, netflix, always, ha...  \n",
      "3  [netflix, would, got, 5, star, review, however...  \n",
      "4                                    [good, amazing]  \n"
     ]
    }
   ],
   "source": [
    "# 数据清理\n",
    "def clean_text(text):\n",
    "    if pd.isnull(text):\n",
    "        return ''\n",
    "    # 移除标点符号\n",
    "    cleaned_text = re.sub(r'[^\\w\\s]', '', text)\n",
    "    # 转换为小写\n",
    "    cleaned_text = cleaned_text.lower()\n",
    "    # 移除多余的空格\n",
    "    cleaned_text = cleaned_text.strip()\n",
    "    return cleaned_text\n",
    "\n",
    "# 分词和去停用词\n",
    "def tokenize_and_remove_stopwords(text):\n",
    "    tokens = text.lower().split()\n",
    "    stop_words = set(stopwords.words('english'))\n",
    "    tokens = [token for token in tokens if token not in stop_words]\n",
    "    return tokens\n",
    "\n",
    "# 处理缺失值\n",
    "df['content'] = df['content'].fillna('')\n",
    "\n",
    "# 应用数据清理和预处理函数\n",
    "df['cleaned_content'] = df['content'].apply(clean_text)\n",
    "df['tokens'] = df['cleaned_content'].apply(tokenize_and_remove_stopwords)\n",
    "\n",
    "# 查看清理和预处理后的数据\n",
    "print(df[['content', 'cleaned_content', 'tokens']].head())\n",
    "\n",
    "# 保存预处理后的数据\n",
    "df.to_csv('preprocessed_netflix_reviews.csv', index=False)"
   ]
  },
  {
   "cell_type": "code",
   "execution_count": null,
   "id": "30a32cfc",
   "metadata": {},
   "outputs": [],
   "source": [
    "# 统计词频\n",
    "= [token for sublist in df['tokens'] for token in sublist]\n",
    "word_counts = Counter(all_tokens)\n",
    "\n",
    "# 输出最常见的词语\n",
    "n = 10\n",
    "top_n_words = word_counts.most_common(n)\n",
    "print(\"Top {} Common Words or Phrases:\".format(n))\n",
    "for word, count in top_n_words:\n",
    "    print(\"{}: {}\".format(word, count))"
   ]
  },
  {
   "cell_type": "code",
   "execution_count": null,
   "id": "6140b4f4",
   "metadata": {},
   "outputs": [],
   "source": [
    "# 可视化词频\n",
    "words, counts = zip(*top_n_words)\n",
    "plt.figure(figsize=(10, 6))\n",
    "plt.bar(words, counts)\n",
    "plt.title('Top {} Common Words or Phrases'.format(n))\n",
    "plt.xlabel('Words or Phrases')\n",
    "plt.ylabel('Frequency')\n",
    "plt.xticks(rotation=45)\n",
    "plt.show()"
   ]
  },
  {
   "cell_type": "code",
   "execution_count": null,
   "id": "c6eb5222",
   "metadata": {
    "scrolled": true
   },
   "outputs": [],
   "source": [
    "# 生成词云\n",
    "all_reviews = ' '.join(df['content'].dropna())\n",
    "wordcloud = WordCloud(width=800, height=400, background_color='white').generate(all_reviews)\n",
    "\n",
    "plt.figure(figsize=(10, 8))\n",
    "plt.imshow(wordcloud, interpolation='bilinear')\n",
    "plt.axis('off')\n",
    "plt.title('Netflix Reviews Word Cloud')\n",
    "plt.show()\n"
   ]
  },
  {
   "cell_type": "code",
   "execution_count": 5,
   "id": "48f741fb",
   "metadata": {
    "scrolled": false
   },
   "outputs": [
    {
     "name": "stdout",
     "output_type": "stream",
     "text": [
      "TF-IDF特征矩阵的形状: (112113, 2000)\n",
      "部分特征名称: ['10' '100' '1000' '1001' '1010' '1023' '1080p' '11' '12' '13']\n"
     ]
    }
   ],
   "source": [
    "# 特征工程：\n",
    "\n",
    "# 使用TF-IDF将文本数据向量化\n",
    "vectorizer = TfidfVectorizer(max_features=2000)  # 选择2000个最重要的特征\n",
    "X = vectorizer.fit_transform(df['cleaned_content'])\n",
    "\n",
    "# 将生成的特征矩阵保存到文件\n",
    "with open('tfidf_features.pkl', 'wb') as file:\n",
    "    pickle.dump(X, file)\n",
    "\n",
    "# 检查特征矩阵的形状\n",
    "print('TF-IDF特征矩阵的形状:', X.shape)\n",
    "\n",
    "# 可选：查看部分特征名称\n",
    "feature_names = vectorizer.get_feature_names_out()\n",
    "print('部分特征名称:', feature_names[:10])"
   ]
  },
  {
   "cell_type": "code",
   "execution_count": 6,
   "id": "cf04b1f5",
   "metadata": {},
   "outputs": [],
   "source": [
    "# 加载数据集和TF-IDF特征\n",
    "df = pd.read_csv('preprocessed_netflix_reviews.csv')\n",
    "with open('tfidf_features.pkl', 'rb') as file:\n",
    "    X = pickle.load(file)\n",
    "\n",
    "# 获取评分列\n",
    "y = df['score']  # 假设评分列名为'score'\n",
    "\n",
    "# 划分训练集和测试集\n",
    "X_train, X_test, y_train, y_test = train_test_split(X, y, test_size=0.2, random_state=42)\n"
   ]
  },
  {
   "cell_type": "code",
   "execution_count": 7,
   "id": "d9762ccd",
   "metadata": {},
   "outputs": [
    {
     "name": "stdout",
     "output_type": "stream",
     "text": [
      "              precision    recall  f1-score   support\n",
      "\n",
      "           1       0.67      0.92      0.78      8736\n",
      "           2       0.30      0.03      0.06      2164\n",
      "           3       0.33      0.15      0.21      2402\n",
      "           4       0.42      0.29      0.34      2716\n",
      "           5       0.73      0.82      0.77      6405\n",
      "\n",
      "    accuracy                           0.65     22423\n",
      "   macro avg       0.49      0.44      0.43     22423\n",
      "weighted avg       0.58      0.65      0.59     22423\n",
      "\n"
     ]
    }
   ],
   "source": [
    "# Logistic Regression：\n",
    "from sklearn.linear_model import LogisticRegression\n",
    "# 创建并训练模型\n",
    "model = LogisticRegression(max_iter=1000)\n",
    "model.fit(X_train, y_train)\n",
    "\n",
    "# 预测和评估\n",
    "y_pred = model.predict(X_test)\n",
    "print(classification_report(y_test, y_pred))"
   ]
  },
  {
   "cell_type": "code",
   "execution_count": 8,
   "id": "44279b23",
   "metadata": {},
   "outputs": [
    {
     "name": "stdout",
     "output_type": "stream",
     "text": [
      "              precision    recall  f1-score   support\n",
      "\n",
      "           1       0.62      0.93      0.74      8736\n",
      "           2       0.00      0.00      0.00      2164\n",
      "           3       0.38      0.02      0.05      2402\n",
      "           4       0.40      0.12      0.18      2716\n",
      "           5       0.65      0.84      0.73      6405\n",
      "\n",
      "    accuracy                           0.62     22423\n",
      "   macro avg       0.41      0.38      0.34     22423\n",
      "weighted avg       0.52      0.62      0.53     22423\n",
      "\n"
     ]
    }
   ],
   "source": [
    "#Naive Bayes\n",
    "from sklearn.naive_bayes import MultinomialNB\n",
    "# 创建并训练模型\n",
    "model = MultinomialNB()\n",
    "model.fit(X_train, y_train)\n",
    "\n",
    "# 预测和评估\n",
    "y_pred = model.predict(X_test)\n",
    "print(classification_report(y_test, y_pred))"
   ]
  },
  {
   "cell_type": "code",
   "execution_count": null,
   "id": "50bce1dc",
   "metadata": {},
   "outputs": [],
   "source": [
    "#Support Vector Machine\n",
    "from sklearn.svm import SVC\n",
    "# 创建并训练模型\n",
    "model = SVC(kernel='linear')\n",
    "model.fit(X_train, y_train)\n",
    "\n",
    "# 预测和评估\n",
    "y_pred = model.predict(X_test)\n",
    "print(classification_report(y_test, y_pred))"
   ]
  },
  {
   "cell_type": "code",
   "execution_count": null,
   "id": "d7de75bf",
   "metadata": {},
   "outputs": [],
   "source": [
    "# Random Forest\n",
    "from sklearn.ensemble import RandomForestClassifier\n",
    "# 创建并训练模型\n",
    "model = RandomForestClassifier(n_estimators=100)\n",
    "model.fit(X_train, y_train)\n",
    "\n",
    "# 预测和评估\n",
    "y_pred = model.predict(X_test)\n",
    "print(classification_report(y_test, y_pred))"
   ]
  },
  {
   "cell_type": "code",
   "execution_count": null,
   "id": "c4be5117",
   "metadata": {},
   "outputs": [],
   "source": [
    "# 转换为LSTM所需的格式\n",
    "max_words = X.shape[1]\n",
    "X_train_pad = pad_sequences(X_train, maxlen=max_words)\n",
    "X_test_pad = pad_sequences(X_test, maxlen=max_words)\n",
    "\n",
    "# 创建LSTM模型\n",
    "model = Sequential([\n",
    "    Embedding(input_dim=max_words, output_dim=128, input_length=max_words),\n",
    "    LSTM(128, return_sequences=True),\n",
    "    Dense(1, activation='sigmoid')\n",
    "])\n",
    "\n",
    "# 编译和训练模型\n",
    "model.compile(optimizer='adam', loss='binary_crossentropy', metrics=['accuracy'])\n",
    "history = model.fit(X_train_pad, y_train, epochs=10, batch_size=32, validation_split=0.1)\n",
    "\n",
    "# 预测和评估\n",
    "y_pred = (model.predict(X_test_pad) > 0.5).astype(int)\n",
    "print(classification_report(y_test, y_pred))"
   ]
  },
  {
   "cell_type": "code",
   "execution_count": null,
   "id": "cc19f204",
   "metadata": {},
   "outputs": [],
   "source": []
  },
  {
   "cell_type": "code",
   "execution_count": null,
   "id": "5526a1ab",
   "metadata": {},
   "outputs": [],
   "source": []
  },
  {
   "cell_type": "code",
   "execution_count": 9,
   "id": "f37c9349",
   "metadata": {
    "scrolled": true
   },
   "outputs": [
    {
     "name": "stderr",
     "output_type": "stream",
     "text": [
      "D:\\Anaconda3\\Lib\\site-packages\\keras\\src\\layers\\core\\dense.py:87: UserWarning: Do not pass an `input_shape`/`input_dim` argument to a layer. When using Sequential models, prefer using an `Input(shape)` object as the first layer in the model instead.\n",
      "  super().__init__(activity_regularizer=activity_regularizer, **kwargs)\n"
     ]
    },
    {
     "data": {
      "text/html": [
       "<pre style=\"white-space:pre;overflow-x:auto;line-height:normal;font-family:Menlo,'DejaVu Sans Mono',consolas,'Courier New',monospace\"><span style=\"font-weight: bold\">Model: \"sequential\"</span>\n",
       "</pre>\n"
      ],
      "text/plain": [
       "\u001b[1mModel: \"sequential\"\u001b[0m\n"
      ]
     },
     "metadata": {},
     "output_type": "display_data"
    },
    {
     "data": {
      "text/html": [
       "<pre style=\"white-space:pre;overflow-x:auto;line-height:normal;font-family:Menlo,'DejaVu Sans Mono',consolas,'Courier New',monospace\">┏━━━━━━━━━━━━━━━━━━━━━━━━━━━━━━━━━━━━━━┳━━━━━━━━━━━━━━━━━━━━━━━━━━━━━┳━━━━━━━━━━━━━━━━━┓\n",
       "┃<span style=\"font-weight: bold\"> Layer (type)                         </span>┃<span style=\"font-weight: bold\"> Output Shape                </span>┃<span style=\"font-weight: bold\">         Param # </span>┃\n",
       "┡━━━━━━━━━━━━━━━━━━━━━━━━━━━━━━━━━━━━━━╇━━━━━━━━━━━━━━━━━━━━━━━━━━━━━╇━━━━━━━━━━━━━━━━━┩\n",
       "│ dense (<span style=\"color: #0087ff; text-decoration-color: #0087ff\">Dense</span>)                        │ (<span style=\"color: #00d7ff; text-decoration-color: #00d7ff\">None</span>, <span style=\"color: #00af00; text-decoration-color: #00af00\">128</span>)                 │         <span style=\"color: #00af00; text-decoration-color: #00af00\">256,128</span> │\n",
       "├──────────────────────────────────────┼─────────────────────────────┼─────────────────┤\n",
       "│ dense_1 (<span style=\"color: #0087ff; text-decoration-color: #0087ff\">Dense</span>)                      │ (<span style=\"color: #00d7ff; text-decoration-color: #00d7ff\">None</span>, <span style=\"color: #00af00; text-decoration-color: #00af00\">64</span>)                  │           <span style=\"color: #00af00; text-decoration-color: #00af00\">8,256</span> │\n",
       "├──────────────────────────────────────┼─────────────────────────────┼─────────────────┤\n",
       "│ dense_2 (<span style=\"color: #0087ff; text-decoration-color: #0087ff\">Dense</span>)                      │ (<span style=\"color: #00d7ff; text-decoration-color: #00d7ff\">None</span>, <span style=\"color: #00af00; text-decoration-color: #00af00\">1</span>)                   │              <span style=\"color: #00af00; text-decoration-color: #00af00\">65</span> │\n",
       "└──────────────────────────────────────┴─────────────────────────────┴─────────────────┘\n",
       "</pre>\n"
      ],
      "text/plain": [
       "┏━━━━━━━━━━━━━━━━━━━━━━━━━━━━━━━━━━━━━━┳━━━━━━━━━━━━━━━━━━━━━━━━━━━━━┳━━━━━━━━━━━━━━━━━┓\n",
       "┃\u001b[1m \u001b[0m\u001b[1mLayer (type)                        \u001b[0m\u001b[1m \u001b[0m┃\u001b[1m \u001b[0m\u001b[1mOutput Shape               \u001b[0m\u001b[1m \u001b[0m┃\u001b[1m \u001b[0m\u001b[1m        Param #\u001b[0m\u001b[1m \u001b[0m┃\n",
       "┡━━━━━━━━━━━━━━━━━━━━━━━━━━━━━━━━━━━━━━╇━━━━━━━━━━━━━━━━━━━━━━━━━━━━━╇━━━━━━━━━━━━━━━━━┩\n",
       "│ dense (\u001b[38;5;33mDense\u001b[0m)                        │ (\u001b[38;5;45mNone\u001b[0m, \u001b[38;5;34m128\u001b[0m)                 │         \u001b[38;5;34m256,128\u001b[0m │\n",
       "├──────────────────────────────────────┼─────────────────────────────┼─────────────────┤\n",
       "│ dense_1 (\u001b[38;5;33mDense\u001b[0m)                      │ (\u001b[38;5;45mNone\u001b[0m, \u001b[38;5;34m64\u001b[0m)                  │           \u001b[38;5;34m8,256\u001b[0m │\n",
       "├──────────────────────────────────────┼─────────────────────────────┼─────────────────┤\n",
       "│ dense_2 (\u001b[38;5;33mDense\u001b[0m)                      │ (\u001b[38;5;45mNone\u001b[0m, \u001b[38;5;34m1\u001b[0m)                   │              \u001b[38;5;34m65\u001b[0m │\n",
       "└──────────────────────────────────────┴─────────────────────────────┴─────────────────┘\n"
      ]
     },
     "metadata": {},
     "output_type": "display_data"
    },
    {
     "data": {
      "text/html": [
       "<pre style=\"white-space:pre;overflow-x:auto;line-height:normal;font-family:Menlo,'DejaVu Sans Mono',consolas,'Courier New',monospace\"><span style=\"font-weight: bold\"> Total params: </span><span style=\"color: #00af00; text-decoration-color: #00af00\">264,449</span> (1.01 MB)\n",
       "</pre>\n"
      ],
      "text/plain": [
       "\u001b[1m Total params: \u001b[0m\u001b[38;5;34m264,449\u001b[0m (1.01 MB)\n"
      ]
     },
     "metadata": {},
     "output_type": "display_data"
    },
    {
     "data": {
      "text/html": [
       "<pre style=\"white-space:pre;overflow-x:auto;line-height:normal;font-family:Menlo,'DejaVu Sans Mono',consolas,'Courier New',monospace\"><span style=\"font-weight: bold\"> Trainable params: </span><span style=\"color: #00af00; text-decoration-color: #00af00\">264,449</span> (1.01 MB)\n",
       "</pre>\n"
      ],
      "text/plain": [
       "\u001b[1m Trainable params: \u001b[0m\u001b[38;5;34m264,449\u001b[0m (1.01 MB)\n"
      ]
     },
     "metadata": {},
     "output_type": "display_data"
    },
    {
     "data": {
      "text/html": [
       "<pre style=\"white-space:pre;overflow-x:auto;line-height:normal;font-family:Menlo,'DejaVu Sans Mono',consolas,'Courier New',monospace\"><span style=\"font-weight: bold\"> Non-trainable params: </span><span style=\"color: #00af00; text-decoration-color: #00af00\">0</span> (0.00 B)\n",
       "</pre>\n"
      ],
      "text/plain": [
       "\u001b[1m Non-trainable params: \u001b[0m\u001b[38;5;34m0\u001b[0m (0.00 B)\n"
      ]
     },
     "metadata": {},
     "output_type": "display_data"
    },
    {
     "name": "stdout",
     "output_type": "stream",
     "text": [
      "Epoch 1/5\n",
      "2803/2803 - 13s - 5ms/step - accuracy: 0.6193 - loss: 0.4262 - val_accuracy: 0.6264 - val_loss: 0.4109\n",
      "Epoch 2/5\n",
      "2803/2803 - 8s - 3ms/step - accuracy: 0.6318 - loss: 0.3975 - val_accuracy: 0.6273 - val_loss: 0.4107\n",
      "Epoch 3/5\n",
      "2803/2803 - 9s - 3ms/step - accuracy: 0.6429 - loss: 0.3738 - val_accuracy: 0.6257 - val_loss: 0.4118\n",
      "Epoch 4/5\n",
      "2803/2803 - 9s - 3ms/step - accuracy: 0.6548 - loss: 0.3412 - val_accuracy: 0.6197 - val_loss: 0.4288\n",
      "Epoch 5/5\n",
      "2803/2803 - 9s - 3ms/step - accuracy: 0.6623 - loss: 0.3101 - val_accuracy: 0.6182 - val_loss: 0.4501\n",
      "701/701 - 1s - 1ms/step - accuracy: 0.6182 - loss: 0.4501\n",
      "Model accuracy on test set: 61.82%\n"
     ]
    }
   ],
   "source": [
    "\n",
    "# 定义全连接神经网络模型\n",
    "model = Sequential()\n",
    "model.add(Dense(128, input_dim=X_train.shape[1], activation='relu'))\n",
    "model.add(Dense(64, activation='relu'))\n",
    "model.add(Dense(1, activation='sigmoid'))  # 对于二分类问题\n",
    "\n",
    "# 编译模型\n",
    "model.compile(loss='binary_crossentropy', optimizer='adam', metrics=['accuracy'])\n",
    "\n",
    "# 模型摘要\n",
    "model.summary()\n",
    "\n",
    "# 训练模型\n",
    "history = model.fit(X_train, y_train, epochs=5, batch_size=32, validation_data=(X_test, y_test), verbose=2)\n",
    "\n",
    "# 模型评估\n",
    "loss, accuracy = model.evaluate(X_test, y_test, verbose=2)\n",
    "print(f'Model accuracy on test set: {accuracy*100:.2f}%')"
   ]
  },
  {
   "cell_type": "code",
   "execution_count": 18,
   "id": "e1b8f801",
   "metadata": {},
   "outputs": [
    {
     "data": {
      "text/html": [
       "<pre style=\"white-space:pre;overflow-x:auto;line-height:normal;font-family:Menlo,'DejaVu Sans Mono',consolas,'Courier New',monospace\"><span style=\"font-weight: bold\">Model: \"sequential_1\"</span>\n",
       "</pre>\n"
      ],
      "text/plain": [
       "\u001b[1mModel: \"sequential_1\"\u001b[0m\n"
      ]
     },
     "metadata": {},
     "output_type": "display_data"
    },
    {
     "data": {
      "text/html": [
       "<pre style=\"white-space:pre;overflow-x:auto;line-height:normal;font-family:Menlo,'DejaVu Sans Mono',consolas,'Courier New',monospace\">┏━━━━━━━━━━━━━━━━━━━━━━━━━━━━━━━━━━━━━━┳━━━━━━━━━━━━━━━━━━━━━━━━━━━━━┳━━━━━━━━━━━━━━━━━┓\n",
       "┃<span style=\"font-weight: bold\"> Layer (type)                         </span>┃<span style=\"font-weight: bold\"> Output Shape                </span>┃<span style=\"font-weight: bold\">         Param # </span>┃\n",
       "┡━━━━━━━━━━━━━━━━━━━━━━━━━━━━━━━━━━━━━━╇━━━━━━━━━━━━━━━━━━━━━━━━━━━━━╇━━━━━━━━━━━━━━━━━┩\n",
       "│ bidirectional (<span style=\"color: #0087ff; text-decoration-color: #0087ff\">Bidirectional</span>)        │ (<span style=\"color: #00d7ff; text-decoration-color: #00d7ff\">None</span>, <span style=\"color: #00af00; text-decoration-color: #00af00\">128</span>)                 │       <span style=\"color: #00af00; text-decoration-color: #00af00\">2,593,280</span> │\n",
       "├──────────────────────────────────────┼─────────────────────────────┼─────────────────┤\n",
       "│ dropout (<span style=\"color: #0087ff; text-decoration-color: #0087ff\">Dropout</span>)                    │ (<span style=\"color: #00d7ff; text-decoration-color: #00d7ff\">None</span>, <span style=\"color: #00af00; text-decoration-color: #00af00\">128</span>)                 │               <span style=\"color: #00af00; text-decoration-color: #00af00\">0</span> │\n",
       "├──────────────────────────────────────┼─────────────────────────────┼─────────────────┤\n",
       "│ dense (<span style=\"color: #0087ff; text-decoration-color: #0087ff\">Dense</span>)                        │ (<span style=\"color: #00d7ff; text-decoration-color: #00d7ff\">None</span>, <span style=\"color: #00af00; text-decoration-color: #00af00\">64</span>)                  │           <span style=\"color: #00af00; text-decoration-color: #00af00\">8,256</span> │\n",
       "├──────────────────────────────────────┼─────────────────────────────┼─────────────────┤\n",
       "│ dropout_1 (<span style=\"color: #0087ff; text-decoration-color: #0087ff\">Dropout</span>)                  │ (<span style=\"color: #00d7ff; text-decoration-color: #00d7ff\">None</span>, <span style=\"color: #00af00; text-decoration-color: #00af00\">64</span>)                  │               <span style=\"color: #00af00; text-decoration-color: #00af00\">0</span> │\n",
       "├──────────────────────────────────────┼─────────────────────────────┼─────────────────┤\n",
       "│ dense_1 (<span style=\"color: #0087ff; text-decoration-color: #0087ff\">Dense</span>)                      │ (<span style=\"color: #00d7ff; text-decoration-color: #00d7ff\">None</span>, <span style=\"color: #00af00; text-decoration-color: #00af00\">1</span>)                   │              <span style=\"color: #00af00; text-decoration-color: #00af00\">65</span> │\n",
       "└──────────────────────────────────────┴─────────────────────────────┴─────────────────┘\n",
       "</pre>\n"
      ],
      "text/plain": [
       "┏━━━━━━━━━━━━━━━━━━━━━━━━━━━━━━━━━━━━━━┳━━━━━━━━━━━━━━━━━━━━━━━━━━━━━┳━━━━━━━━━━━━━━━━━┓\n",
       "┃\u001b[1m \u001b[0m\u001b[1mLayer (type)                        \u001b[0m\u001b[1m \u001b[0m┃\u001b[1m \u001b[0m\u001b[1mOutput Shape               \u001b[0m\u001b[1m \u001b[0m┃\u001b[1m \u001b[0m\u001b[1m        Param #\u001b[0m\u001b[1m \u001b[0m┃\n",
       "┡━━━━━━━━━━━━━━━━━━━━━━━━━━━━━━━━━━━━━━╇━━━━━━━━━━━━━━━━━━━━━━━━━━━━━╇━━━━━━━━━━━━━━━━━┩\n",
       "│ bidirectional (\u001b[38;5;33mBidirectional\u001b[0m)        │ (\u001b[38;5;45mNone\u001b[0m, \u001b[38;5;34m128\u001b[0m)                 │       \u001b[38;5;34m2,593,280\u001b[0m │\n",
       "├──────────────────────────────────────┼─────────────────────────────┼─────────────────┤\n",
       "│ dropout (\u001b[38;5;33mDropout\u001b[0m)                    │ (\u001b[38;5;45mNone\u001b[0m, \u001b[38;5;34m128\u001b[0m)                 │               \u001b[38;5;34m0\u001b[0m │\n",
       "├──────────────────────────────────────┼─────────────────────────────┼─────────────────┤\n",
       "│ dense (\u001b[38;5;33mDense\u001b[0m)                        │ (\u001b[38;5;45mNone\u001b[0m, \u001b[38;5;34m64\u001b[0m)                  │           \u001b[38;5;34m8,256\u001b[0m │\n",
       "├──────────────────────────────────────┼─────────────────────────────┼─────────────────┤\n",
       "│ dropout_1 (\u001b[38;5;33mDropout\u001b[0m)                  │ (\u001b[38;5;45mNone\u001b[0m, \u001b[38;5;34m64\u001b[0m)                  │               \u001b[38;5;34m0\u001b[0m │\n",
       "├──────────────────────────────────────┼─────────────────────────────┼─────────────────┤\n",
       "│ dense_1 (\u001b[38;5;33mDense\u001b[0m)                      │ (\u001b[38;5;45mNone\u001b[0m, \u001b[38;5;34m1\u001b[0m)                   │              \u001b[38;5;34m65\u001b[0m │\n",
       "└──────────────────────────────────────┴─────────────────────────────┴─────────────────┘\n"
      ]
     },
     "metadata": {},
     "output_type": "display_data"
    },
    {
     "data": {
      "text/html": [
       "<pre style=\"white-space:pre;overflow-x:auto;line-height:normal;font-family:Menlo,'DejaVu Sans Mono',consolas,'Courier New',monospace\"><span style=\"font-weight: bold\"> Total params: </span><span style=\"color: #00af00; text-decoration-color: #00af00\">2,601,601</span> (9.92 MB)\n",
       "</pre>\n"
      ],
      "text/plain": [
       "\u001b[1m Total params: \u001b[0m\u001b[38;5;34m2,601,601\u001b[0m (9.92 MB)\n"
      ]
     },
     "metadata": {},
     "output_type": "display_data"
    },
    {
     "data": {
      "text/html": [
       "<pre style=\"white-space:pre;overflow-x:auto;line-height:normal;font-family:Menlo,'DejaVu Sans Mono',consolas,'Courier New',monospace\"><span style=\"font-weight: bold\"> Trainable params: </span><span style=\"color: #00af00; text-decoration-color: #00af00\">2,601,601</span> (9.92 MB)\n",
       "</pre>\n"
      ],
      "text/plain": [
       "\u001b[1m Trainable params: \u001b[0m\u001b[38;5;34m2,601,601\u001b[0m (9.92 MB)\n"
      ]
     },
     "metadata": {},
     "output_type": "display_data"
    },
    {
     "data": {
      "text/html": [
       "<pre style=\"white-space:pre;overflow-x:auto;line-height:normal;font-family:Menlo,'DejaVu Sans Mono',consolas,'Courier New',monospace\"><span style=\"font-weight: bold\"> Non-trainable params: </span><span style=\"color: #00af00; text-decoration-color: #00af00\">0</span> (0.00 B)\n",
       "</pre>\n"
      ],
      "text/plain": [
       "\u001b[1m Non-trainable params: \u001b[0m\u001b[38;5;34m0\u001b[0m (0.00 B)\n"
      ]
     },
     "metadata": {},
     "output_type": "display_data"
    }
   ],
   "source": [
    "# # 1.构建简单神经网络模型\n",
    "# model = Sequential()\n",
    "# model.add(Dense(512, input_shape=(X_train.shape[1],), activation='relu'))\n",
    "# model.add(Dropout(0.5))\n",
    "# model.add(Dense(256, activation='relu'))\n",
    "# model.add(Dropout(0.5))\n",
    "# model.add(Dense(1, activation='sigmoid'))\n",
    "# model.compile(loss='binary_crossentropy', optimizer='adam', metrics=['accuracy'])\n",
    "\n",
    "\n",
    "2.\n",
    "# # 打印原始数据形状\n",
    "# print(f'Original shape of X_train: {X_train.shape}')\n",
    "# print(f'Original shape of X_test: {X_test.shape}')\n",
    "\n",
    "# # 确保数据形状正确\n",
    "# assert X_train.shape[1] == X_test.shape[1], \"Feature dimensions of X_train and X_test do not match.\"\n",
    "\n",
    "# # 解构数据形状\n",
    "# num_train_samples, num_time_steps, num_features = X_train.shape[0], X_train.shape[1], X_train.shape[2]\n",
    "# num_test_samples = X_test.shape[0]\n",
    "# print(f'num_train_samples: {num_train_samples}, num_time_steps: {num_time_steps}, num_features: {num_features}')\n",
    "\n",
    "# # 构建双向LSTM模型\n",
    "# model = Sequential()\n",
    "# model.add(Bidirectional(LSTM(64, return_sequences=False, kernel_regularizer=l2(0.01)), input_shape=(num_time_steps, num_features)))\n",
    "# model.add(Dropout(0.5))\n",
    "# model.add(Dense(64, activation='relu', kernel_regularizer=l2(0.01)))\n",
    "# model.add(Dropout(0.5))\n",
    "# model.add(Dense(1, activation='sigmoid'))\n",
    "\n",
    "# # 调整优化器的学习率\n",
    "# optimizer = tf.keras.optimizers.Adam(learning_rate=0.0001)\n",
    "# model.compile(loss='binary_crossentropy', optimizer=optimizer, metrics=['accuracy'])\n",
    "              \n",
    "# 3.\n",
    "# # 数据平衡\n",
    "# class_weights = compute_class_weight('balanced', classes=np.unique(y_train), y=y_train)\n",
    "# class_weights = dict(enumerate(class_weights))\n",
    "\n",
    "# # 重塑数据以适应LSTM的输入要求\n",
    "# X_train = X_train.reshape((X_train.shape[0], 1, X_train.shape[1]))\n",
    "# X_test = X_test.reshape((X_test.shape[0], 1, X_test.shape[1]))\n",
    "\n",
    "# # 构建双向LSTM模型\n",
    "# model = Sequential()\n",
    "# model.add(Input(shape=(X_train.shape[1], X_train.shape[2])))  # 使用 Input 层定义输入形状\n",
    "# model.add(Bidirectional(LSTM(64, return_sequences=False, kernel_regularizer=l2(0.01))))\n",
    "# model.add(Dropout(0.5))\n",
    "# model.add(Dense(64, activation='relu', kernel_regularizer=l2(0.01)))\n",
    "# model.add(Dropout(0.5))\n",
    "# model.add(Dense(1, activation='sigmoid'))\n",
    "\n",
    "# 尝试不同的学习率\n",
    "optimizer = Adam(learning_rate=0.001)\n",
    "model.compile(optimizer=optimizer, loss='binary_crossentropy', metrics=['accuracy'])\n",
    "\n",
    "\n",
    "\n",
    "# 模型摘要\n",
    "model.summary()"
   ]
  },
  {
   "cell_type": "code",
   "execution_count": 38,
   "id": "b2249e07",
   "metadata": {
    "scrolled": true
   },
   "outputs": [
    {
     "name": "stdout",
     "output_type": "stream",
     "text": [
      "Epoch 1/20\n",
      "1402/1402 - 66s - 47ms/step - accuracy: 0.3923 - loss: 0.6887 - val_accuracy: 0.3896 - val_loss: 0.6889\n",
      "Epoch 2/20\n",
      "1402/1402 - 63s - 45ms/step - accuracy: 0.3923 - loss: 0.6887 - val_accuracy: 0.3896 - val_loss: 0.6889\n",
      "Epoch 3/20\n",
      "1402/1402 - 63s - 45ms/step - accuracy: 0.3923 - loss: 0.6888 - val_accuracy: 0.3896 - val_loss: 0.6889\n",
      "Epoch 4/20\n",
      "1402/1402 - 63s - 45ms/step - accuracy: 0.3923 - loss: 0.6888 - val_accuracy: 0.3896 - val_loss: 0.6889\n",
      "Epoch 5/20\n",
      "1402/1402 - 63s - 45ms/step - accuracy: 0.3923 - loss: 0.6887 - val_accuracy: 0.3896 - val_loss: 0.6889\n",
      "Epoch 6/20\n",
      "1402/1402 - 64s - 45ms/step - accuracy: 0.3923 - loss: 0.6888 - val_accuracy: 0.3896 - val_loss: 0.6890\n",
      "Epoch 7/20\n",
      "1402/1402 - 64s - 46ms/step - accuracy: 0.3923 - loss: 0.6888 - val_accuracy: 0.3896 - val_loss: 0.6890\n",
      "Epoch 8/20\n",
      "1402/1402 - 65s - 46ms/step - accuracy: 0.3923 - loss: 0.6887 - val_accuracy: 0.3896 - val_loss: 0.6890\n",
      "Epoch 9/20\n",
      "1402/1402 - 64s - 46ms/step - accuracy: 0.3923 - loss: 0.6887 - val_accuracy: 0.3896 - val_loss: 0.6890\n",
      "Epoch 10/20\n",
      "1402/1402 - 65s - 46ms/step - accuracy: 0.3923 - loss: 0.6887 - val_accuracy: 0.3896 - val_loss: 0.6889\n",
      "Epoch 11/20\n",
      "1402/1402 - 64s - 46ms/step - accuracy: 0.3923 - loss: 0.6888 - val_accuracy: 0.3896 - val_loss: 0.6889\n",
      "Epoch 12/20\n",
      "1402/1402 - 64s - 46ms/step - accuracy: 0.3923 - loss: 0.6887 - val_accuracy: 0.3896 - val_loss: 0.6889\n",
      "Epoch 13/20\n",
      "1402/1402 - 65s - 46ms/step - accuracy: 0.3923 - loss: 0.6888 - val_accuracy: 0.3896 - val_loss: 0.6889\n",
      "Epoch 14/20\n",
      "1402/1402 - 65s - 46ms/step - accuracy: 0.3923 - loss: 0.6887 - val_accuracy: 0.3896 - val_loss: 0.6890\n",
      "Epoch 15/20\n",
      "1402/1402 - 64s - 46ms/step - accuracy: 0.3923 - loss: 0.6887 - val_accuracy: 0.3896 - val_loss: 0.6889\n",
      "Epoch 16/20\n",
      "1402/1402 - 64s - 46ms/step - accuracy: 0.3923 - loss: 0.6887 - val_accuracy: 0.3896 - val_loss: 0.6889\n",
      "Epoch 17/20\n",
      "1402/1402 - 64s - 46ms/step - accuracy: 0.3923 - loss: 0.6887 - val_accuracy: 0.3896 - val_loss: 0.6889\n",
      "Epoch 18/20\n",
      "1402/1402 - 64s - 46ms/step - accuracy: 0.3923 - loss: 0.6887 - val_accuracy: 0.3896 - val_loss: 0.6890\n",
      "Epoch 19/20\n",
      "1402/1402 - 64s - 46ms/step - accuracy: 0.3923 - loss: 0.6887 - val_accuracy: 0.3896 - val_loss: 0.6890\n",
      "Epoch 20/20\n",
      "1402/1402 - 64s - 46ms/step - accuracy: 0.3923 - loss: 0.6888 - val_accuracy: 0.3896 - val_loss: 0.6889\n"
     ]
    }
   ],
   "source": [
    "# 训练模型  1.增加训练轮数 epochs5 -> 20\n",
    "# history = model.fit(X_train, y_train, epochs=5, batch_size=64, validation_data=(X_test, y_test), verbose=2)\n",
    "\n",
    "history = model.fit(X_train, y_train, epochs=20, batch_size=64, validation_data=(X_test, y_test), verbose=2)\n"
   ]
  },
  {
   "cell_type": "code",
   "execution_count": 39,
   "id": "d4bdb869",
   "metadata": {},
   "outputs": [
    {
     "name": "stdout",
     "output_type": "stream",
     "text": [
      "701/701 - 4s - 6ms/step - accuracy: 0.3896 - loss: 0.6889\n",
      "Model accuracy on test set: 38.96%\n"
     ]
    }
   ],
   "source": [
    "# 模型评估\n",
    "loss, accuracy = model.evaluate(X_test, y_test, verbose=2)\n",
    "print(f'Model accuracy on test set: {accuracy*100:.2f}%')"
   ]
  },
  {
   "cell_type": "code",
   "execution_count": 40,
   "id": "19f0efeb",
   "metadata": {
    "scrolled": true
   },
   "outputs": [
    {
     "data": {
      "image/png": "[encoded data removed]",
      "text/plain": [
       "<Figure size 1200x400 with 2 Axes>"
      ]
     },
     "metadata": {},
     "output_type": "display_data"
    }
   ],
   "source": [
    "# 可视化训练过程\n",
    "plt.figure(figsize=(12, 4))\n",
    "\n",
    "plt.subplot(1, 2, 1)\n",
    "plt.plot(history.history['loss'], label='Training Loss')\n",
    "plt.plot(history.history['val_loss'], label='Validation Loss')\n",
    "plt.title('Training and Validation Loss')\n",
    "plt.xlabel('Epoch')\n",
    "plt.ylabel('Loss')\n",
    "plt.legend()\n",
    "\n",
    "plt.subplot(1, 2, 2)\n",
    "plt.plot(history.history['accuracy'], label='Training Accuracy')\n",
    "plt.plot(history.history['val_accuracy'], label='Validation Accuracy')\n",
    "plt.title('Training and Validation Accuracy')\n",
    "plt.xlabel('Epoch')\n",
    "plt.ylabel('Accuracy')\n",
    "plt.legend()\n",
    "\n",
    "plt.show()"
   ]
  },
  {
   "cell_type": "code",
   "execution_count": null,
   "id": "406def88",
   "metadata": {},
   "outputs": [],
   "source": []
  },
  {
   "cell_type": "code",
   "execution_count": null,
   "id": "8a5d8d66",
   "metadata": {},
   "outputs": [],
   "source": []
  }
 ],
 "metadata": {
  "kernelspec": {
   "display_name": "Python 3 (ipykernel)",
   "language": "python",
   "name": "python3"
  },
  "language_info": {
   "codemirror_mode": {
    "name": "ipython",
    "version": 3
   },
   "file_extension": ".py",
   "mimetype": "text/x-python",
   "name": "python",
   "nbconvert_exporter": "python",
   "pygments_lexer": "ipython3",
   "version": "3.11.5"
  }
 },
 "nbformat": 4,
 "nbformat_minor": 5
}
